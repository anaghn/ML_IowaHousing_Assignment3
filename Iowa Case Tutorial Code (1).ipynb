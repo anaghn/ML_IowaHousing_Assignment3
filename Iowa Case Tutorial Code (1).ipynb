{
 "cells": [
  {
   "cell_type": "code",
   "execution_count": null,
   "id": "eb4793de",
   "metadata": {},
   "outputs": [],
   "source": [
    "import pandas as pd\n",
    "import numpy as np\n",
    "import matplotlib.pyplot as plt\n",
    "from sklearn.linear_model import LinearRegression, Lasso, Ridge"
   ]
  },
  {
   "cell_type": "code",
   "execution_count": null,
   "id": "bb46227f",
   "metadata": {},
   "outputs": [],
   "source": [
    "pd.set_option(\"display.max_column\",999)\n",
    "pd.set_option(\"display.max_row\",999)"
   ]
  },
  {
   "cell_type": "markdown",
   "id": "25f9d280",
   "metadata": {},
   "source": [
    "### Loading Original Data"
   ]
  },
  {
   "cell_type": "code",
   "execution_count": null,
   "id": "d5b999a0",
   "metadata": {},
   "outputs": [],
   "source": [
    "data=pd.read_excel(\"Original_Data.xlsx\",header=3)"
   ]
  },
  {
   "cell_type": "code",
   "execution_count": null,
   "id": "a82586da",
   "metadata": {},
   "outputs": [],
   "source": [
    "data.head()"
   ]
  },
  {
   "cell_type": "markdown",
   "id": "d657038a",
   "metadata": {},
   "source": [
    "#### Selecting features based on book description"
   ]
  },
  {
   "cell_type": "code",
   "execution_count": null,
   "id": "eac329e4",
   "metadata": {},
   "outputs": [],
   "source": [
    "#requires one-hot encoding\n",
    "categorical=['Neighborhood','LotShape','LotConfig','Condition1','Condition2','BldgType']\n",
    "\n",
    "#ordinal encoding\n",
    "ordinal=['BsmtQual','ExterCond','KitchenQual']\n",
    "\n",
    "#missing values\n",
    "missing=['LotFrontage']"
   ]
  },
  {
   "cell_type": "code",
   "execution_count": null,
   "id": "cd5fa081",
   "metadata": {},
   "outputs": [],
   "source": [
    "#no special treatment besides imputation etc\n",
    "numerical_features=[\n",
    "          'LotArea',\n",
    "          'OverallQual',\n",
    "        'OverallCond',\n",
    "    'YearBuilt',\n",
    "    'YearRemodAdd',\n",
    "    'BsmtFinSF1',\n",
    "    'BsmtUnfSF',\n",
    "    'TotalBsmtSF',\n",
    "    '1stFlrSF',\n",
    "    '2ndFlrSF',\n",
    "    'GrLivArea',\n",
    "    'FullBath',\n",
    "    'HalfBath',\n",
    "    'BedroomAbvGr',\n",
    "    'TotRmsAbvGrd',\n",
    "    'Fireplaces',\n",
    "    'GarageCars',\n",
    "    'GarageArea',\n",
    "    'WoodDeckSF',\n",
    "    'OpenPorchSF',\n",
    "    'EnclosedPorch',\n",
    "]"
   ]
  },
  {
   "cell_type": "code",
   "execution_count": null,
   "id": "ca8a57a6",
   "metadata": {},
   "outputs": [],
   "source": [
    "target=\"SalePrice\""
   ]
  },
  {
   "cell_type": "code",
   "execution_count": null,
   "id": "5c90a328",
   "metadata": {},
   "outputs": [],
   "source": [
    "#create a list to store all my features\n",
    "features = ordinal + numerical_features + categorical +  missing\n",
    "features"
   ]
  },
  {
   "cell_type": "code",
   "execution_count": null,
   "id": "00317e2d",
   "metadata": {},
   "outputs": [],
   "source": [
    "#separate data into features and target\n",
    "X_raw = data[features].copy()\n",
    "y_raw = data[target].copy()\n"
   ]
  },
  {
   "cell_type": "code",
   "execution_count": null,
   "id": "e78fd198",
   "metadata": {},
   "outputs": [],
   "source": [
    "#lets check our data\n",
    "X_raw.head()"
   ]
  },
  {
   "cell_type": "code",
   "execution_count": null,
   "id": "92ade1f7",
   "metadata": {},
   "outputs": [],
   "source": [
    "y_raw.head()"
   ]
  },
  {
   "cell_type": "code",
   "execution_count": null,
   "id": "7228f7e0",
   "metadata": {},
   "outputs": [],
   "source": [
    "#quick statistics\n",
    "X_raw.describe()"
   ]
  },
  {
   "cell_type": "markdown",
   "id": "e812b65c",
   "metadata": {},
   "source": [
    "### Notice that categorical variables still are in their \"raw\" form - still text"
   ]
  },
  {
   "cell_type": "markdown",
   "id": "89d743a8",
   "metadata": {},
   "source": [
    "### Checking for the null values"
   ]
  },
  {
   "cell_type": "code",
   "execution_count": null,
   "id": "711d0431",
   "metadata": {},
   "outputs": [],
   "source": [
    "X_raw.isnull().mean()"
   ]
  },
  {
   "cell_type": "code",
   "execution_count": null,
   "id": "678656f1",
   "metadata": {},
   "outputs": [],
   "source": [
    "#for the full dataset\n",
    "data.isnull().mean()"
   ]
  },
  {
   "cell_type": "markdown",
   "id": "94e9ac27",
   "metadata": {},
   "source": [
    "\n",
    "### Converting the categorical / ordinal variables to numbers"
   ]
  },
  {
   "cell_type": "markdown",
   "id": "ad18dc22",
   "metadata": {},
   "source": [
    "#### Neighborhood - we need to convert to one-hot representation = creating dummy variables (0/1)"
   ]
  },
  {
   "cell_type": "code",
   "execution_count": null,
   "id": "308ac7d0",
   "metadata": {},
   "outputs": [],
   "source": [
    "X_processed = pd.get_dummies(X_raw,columns=categorical,)\n",
    "X_processed.head()"
   ]
  },
  {
   "cell_type": "code",
   "execution_count": null,
   "id": "35d8e4f0",
   "metadata": {},
   "outputs": [],
   "source": [
    "X_processed.shape"
   ]
  },
  {
   "cell_type": "code",
   "execution_count": null,
   "id": "b5e91395",
   "metadata": {},
   "outputs": [],
   "source": [
    "#dropping one of the categories\n",
    "X_processed = pd.get_dummies(X_raw,columns=categorical,drop_first=True)\n",
    "X_processed.shape"
   ]
  },
  {
   "cell_type": "code",
   "execution_count": null,
   "id": "2222af94",
   "metadata": {},
   "outputs": [],
   "source": [
    "X_processed.head()"
   ]
  },
  {
   "cell_type": "markdown",
   "id": "fb8289e8",
   "metadata": {},
   "source": [
    "#### Basement quality - we will convert into a scale 1 - 5 (Poor - Excellent) and null values will be 0"
   ]
  },
  {
   "cell_type": "code",
   "execution_count": null,
   "id": "a49774fa",
   "metadata": {},
   "outputs": [],
   "source": [
    "X_processed[ordinal].value_counts()"
   ]
  },
  {
   "cell_type": "markdown",
   "id": "d1ce12da",
   "metadata": {},
   "source": [
    "       Ex\tExcellent (100+ inches)\t\n",
    "       Gd\tGood (90-99 inches)\n",
    "       TA\tTypical (80-89 inches)\n",
    "       Fa\tFair (70-79 inches)\n",
    "       Po\tPoor (<70 inches\n",
    "       NA\tNo Basement\n"
   ]
  },
  {
   "cell_type": "code",
   "execution_count": null,
   "id": "917b40b7",
   "metadata": {},
   "outputs": [],
   "source": [
    "ordinal_mappings = {\n",
    "    \n",
    "    \"Ex\":5,\n",
    "    \"Gd\":4,\n",
    "    \"TA\":3,\n",
    "    \"Fa\":2,\n",
    "    \"Po\":1,\n",
    "    np.nan:0\n",
    "    \n",
    "}"
   ]
  },
  {
   "cell_type": "code",
   "execution_count": null,
   "id": "bf2cadec",
   "metadata": {},
   "outputs": [],
   "source": [
    "#convert basement quality to our scale using the map dictionary from pandas\n",
    "# for i in ordinal:\n",
    "#     print(X_processed[i])\n",
    "    # X_processed[i]=X_processed[i].map(ordinal_mappings)    \n",
    "X_processed['BsmtQual']=X_processed['BsmtQual'].map(ordinal_mappings)\n",
    "X_processed['ExterCond']=X_processed['ExterCond'].map(ordinal_mappings)\n",
    "X_processed['KitchenQual']=X_processed['KitchenQual'].map(ordinal_mappings)\n",
    "X_processed.head()\n",
    "\n",
    "# X_processed[ordinal].describe()"
   ]
  },
  {
   "cell_type": "code",
   "execution_count": null,
   "id": "fd692e1e",
   "metadata": {},
   "outputs": [],
   "source": [
    "X_raw.head() #noticed that we converted strings into numerical"
   ]
  },
  {
   "cell_type": "markdown",
   "id": "afa61109",
   "metadata": {},
   "source": [
    "### Imputing missing values with k-nearest-neighbour"
   ]
  },
  {
   "cell_type": "code",
   "execution_count": null,
   "id": "28f0c826",
   "metadata": {},
   "outputs": [],
   "source": [
    "from sklearn.impute import KNNImputer\n",
    "imputer = KNNImputer(n_neighbors=5)\n",
    "\n",
    "X_processed[missing] = pd.DataFrame(imputer.fit_transform(X_processed[missing]),columns = missing)\n",
    "\n",
    "X_processed.head()"
   ]
  },
  {
   "cell_type": "markdown",
   "id": "5ac6a6f2",
   "metadata": {},
   "source": [
    "Checking null values"
   ]
  },
  {
   "cell_type": "code",
   "execution_count": null,
   "id": "70438c19",
   "metadata": {},
   "outputs": [],
   "source": [
    "X_processed.isnull().mean()"
   ]
  },
  {
   "cell_type": "markdown",
   "id": "086298a8",
   "metadata": {},
   "source": [
    "### Selecting features based on k-best"
   ]
  },
  {
   "cell_type": "code",
   "execution_count": null,
   "id": "c77cf30d",
   "metadata": {},
   "outputs": [],
   "source": [
    "from sklearn.feature_selection import SelectKBest, f_regression\n",
    "\n",
    "#Features as candidates to be added\n",
    "featurelist = ['ExterCond','KitchenQual', 'LotConfig_CulDSac', 'LotConfig_FR2', 'LotConfig_FR3', 'LotConfig_Inside', 'Condition1_Feedr', 'Condition1_Norm', 'Condition1_PosA', 'Condition1_PosN', 'Condition1_RRAe', 'Condition1_RRAn', 'Condition1_RRNe', 'Condition1_RRNn', 'Condition2_Feedr', 'Condition2_Norm', 'Condition2_PosA', 'Condition2_PosN', 'Condition2_RRAe', 'Condition2_RRAn', 'Condition2_RRNn', 'BldgType_2fmCon', 'BldgType_Duplex', 'BldgType_Twnhs', 'BldgType_TwnhsE']\n",
    "\n",
    "searchData = X_processed[featurelist]\n",
    "\n",
    "select = SelectKBest(score_func=f_regression, k=2)\n",
    "z = select.fit_transform(searchData, y_raw) \n",
    " # Get columns to keep and create new dataframe with those only\n",
    "cols = select.get_support(indices=True)\n",
    "features_df_new = searchData.iloc[:,cols]\n",
    "features_df_new\n",
    "\n",
    "\n",
    "selectedFeatureList = ['BsmtQual','KitchenQual','LotArea','OverallQual','OverallCond','YearBuilt','YearRemodAdd','BsmtFinSF1','BsmtUnfSF','TotalBsmtSF','1stFlrSF','2ndFlrSF','GrLivArea','FullBath','HalfBath','BedroomAbvGr','TotRmsAbvGrd','Fireplaces','GarageCars','GarageArea','WoodDeckSF','OpenPorchSF','EnclosedPorch','LotFrontage','Neighborhood_Blueste','Neighborhood_BrDale','Neighborhood_BrkSide','Neighborhood_ClearCr','Neighborhood_CollgCr','Neighborhood_Crawfor','Neighborhood_Edwards','Neighborhood_Gilbert','Neighborhood_IDOTRR','Neighborhood_MeadowV','Neighborhood_Mitchel','Neighborhood_NAmes','Neighborhood_NPkVill','Neighborhood_NWAmes','Neighborhood_NoRidge','Neighborhood_NridgHt','Neighborhood_OldTown','Neighborhood_SWISU','Neighborhood_Sawyer','Neighborhood_SawyerW','Neighborhood_Somerst','Neighborhood_StoneBr','Neighborhood_Timber','Neighborhood_Veenker','LotShape_IR2','LotShape_IR3','LotShape_Reg','LotConfig_CulDSac']\n",
    "\n",
    "X_finalData = X_processed[selectedFeatureList]\n",
    "\n",
    "X_finalData.head()"
   ]
  },
  {
   "cell_type": "markdown",
   "id": "1cdc4060",
   "metadata": {},
   "source": [
    "### Splitting into training and validation"
   ]
  },
  {
   "cell_type": "code",
   "execution_count": null,
   "id": "262734bb",
   "metadata": {},
   "outputs": [],
   "source": [
    "#splitting data into training, validation and test\n",
    "X_train, X_valid, X_test = X_finalData.iloc[0:1800,:].copy(),  X_finalData.iloc[1800:2400,:].copy(), X_finalData.iloc[2400:,:].copy()\n"
   ]
  },
  {
   "cell_type": "code",
   "execution_count": null,
   "id": "5f678572",
   "metadata": {},
   "outputs": [],
   "source": [
    "#lets check the shape\n",
    "X_train.shape,X_valid.shape, X_test.shape"
   ]
  },
  {
   "cell_type": "code",
   "execution_count": null,
   "id": "c52090b0",
   "metadata": {},
   "outputs": [],
   "source": [
    "#we do for the sale price\n",
    "y_train, y_valid, y_test = y_raw[0:1800].copy(), y_raw[1800:2400].copy(), y_raw[2400:]\n",
    "y_train.shape,y_valid.shape, y_test.shape"
   ]
  },
  {
   "cell_type": "markdown",
   "id": "8b6d440a",
   "metadata": {},
   "source": [
    "### Standardizing the variables"
   ]
  },
  {
   "cell_type": "code",
   "execution_count": null,
   "id": "8efca2d5",
   "metadata": {},
   "outputs": [],
   "source": [
    "#we will use the sklearn module called StandardScaler\n",
    "from sklearn.preprocessing import StandardScaler"
   ]
  },
  {
   "cell_type": "code",
   "execution_count": null,
   "id": "00e762fd",
   "metadata": {},
   "outputs": [],
   "source": [
    "scaler = StandardScaler()"
   ]
  },
  {
   "cell_type": "code",
   "execution_count": null,
   "id": "b29d3e18",
   "metadata": {},
   "outputs": [],
   "source": [
    "#fitting my scaler\n",
    "scaler.fit(X_train)"
   ]
  },
  {
   "cell_type": "code",
   "execution_count": null,
   "id": "4fb98a39",
   "metadata": {},
   "outputs": [],
   "source": [
    "X_train_scaled = scaler.transform(X_train)\n",
    "X_train_scaled"
   ]
  },
  {
   "cell_type": "code",
   "execution_count": null,
   "id": "571ae317",
   "metadata": {},
   "outputs": [],
   "source": [
    "#saving into a dataframe\n",
    "X_train_scaled = pd.DataFrame(X_train_scaled.tolist(),columns=X_train.columns)\n",
    "X_train_scaled.head()"
   ]
  },
  {
   "cell_type": "code",
   "execution_count": null,
   "id": "a48865f9",
   "metadata": {},
   "outputs": [],
   "source": [
    "#scaling validation and test\n",
    "#saving into a dataframe\n",
    "X_valid_scaled = pd.DataFrame(scaler.transform(X_valid).tolist(),columns = X_valid.columns)\n",
    "X_test_scaled = pd.DataFrame(scaler.transform(X_test).tolist(),columns = X_test.columns)\n",
    "\n"
   ]
  },
  {
   "cell_type": "code",
   "execution_count": null,
   "id": "f9359b2d",
   "metadata": {},
   "outputs": [],
   "source": [
    "#scaling the target variable\n",
    "y_train_scaled = (y_train - y_train.mean())/y_train.std()\n",
    "y_valid_scaled = (y_valid - y_train.mean())/y_train.std()\n",
    "y_test_scaled = (y_test - y_train.mean())/y_train.std()\n"
   ]
  },
  {
   "cell_type": "markdown",
   "id": "138879af",
   "metadata": {},
   "source": [
    "### Lasso"
   ]
  },
  {
   "cell_type": "markdown",
   "id": "7bd183c8",
   "metadata": {},
   "source": [
    "#### Fitting a single model"
   ]
  },
  {
   "cell_type": "code",
   "execution_count": null,
   "id": "8454f104",
   "metadata": {},
   "outputs": [],
   "source": [
    "#defining lambda term as 10% - we need to divide by two because the mean squared is divided by two\n",
    "lasso = Lasso(alpha = 0.1/2)"
   ]
  },
  {
   "cell_type": "code",
   "execution_count": null,
   "id": "8911e276",
   "metadata": {},
   "outputs": [],
   "source": [
    "#we fit the regression\n",
    "lasso.fit(X_train_scaled,y_train_scaled)"
   ]
  },
  {
   "cell_type": "code",
   "execution_count": null,
   "id": "297b0dd5",
   "metadata": {},
   "outputs": [],
   "source": [
    "#accessing the coefficients\n",
    "lasso_coefs = pd.DataFrame()\n",
    "lasso_coefs['variable']=  X_train.columns\n",
    "lasso_coefs['beta']=  lasso.coef_\n",
    "#appending the constant term\n",
    "lasso_coefs = lasso_coefs.append({\"variable\":\"constant\", \"beta\":lasso.intercept_},ignore_index=True)\n",
    "lasso_coefs"
   ]
  },
  {
   "cell_type": "code",
   "execution_count": null,
   "id": "166f2171",
   "metadata": {},
   "outputs": [],
   "source": [
    "#computing the MSE \n",
    "#I need to generate my estimates\n",
    "train_estimate = lasso.predict(X_train_scaled)\n",
    "valid_estimate = lasso.predict(X_valid_scaled)\n",
    "test_estimate = lasso.predict(X_test_scaled)\n"
   ]
  },
  {
   "cell_type": "code",
   "execution_count": null,
   "id": "f5d3916e",
   "metadata": {},
   "outputs": [],
   "source": [
    "#importing mean squared error from sklearn\n",
    "from sklearn.metrics import mean_squared_error\n"
   ]
  },
  {
   "cell_type": "code",
   "execution_count": null,
   "id": "dbc530b2",
   "metadata": {},
   "outputs": [],
   "source": [
    "#compute the MSE\n",
    "train_mse = mean_squared_error(y_train_scaled, train_estimate)\n",
    "train_mse\n"
   ]
  },
  {
   "cell_type": "code",
   "execution_count": null,
   "id": "e4f0ed5a",
   "metadata": {},
   "outputs": [],
   "source": [
    "valid_mse = mean_squared_error(y_valid_scaled, valid_estimate)\n",
    "valid_mse"
   ]
  },
  {
   "cell_type": "markdown",
   "id": "5f90e530",
   "metadata": {},
   "source": [
    "#### Repeat the same process for different levels of lambda"
   ]
  },
  {
   "cell_type": "code",
   "execution_count": null,
   "id": "8f0fd01a",
   "metadata": {},
   "outputs": [],
   "source": [
    "#generate the range of lambdas\n",
    "lambdas = np.linspace(0.001, 1)/2"
   ]
  },
  {
   "cell_type": "code",
   "execution_count": null,
   "id": "6f7a67a5",
   "metadata": {},
   "outputs": [],
   "source": [
    "#create a results list to store my results\n",
    "results = []\n",
    "\n",
    "for l in lambdas:\n",
    "    #define my model\n",
    "    lasso = Lasso(alpha=l)\n",
    "    \n",
    "    #fit my model in the training set\n",
    "    lasso.fit(X_train_scaled,y_train_scaled)\n",
    "    \n",
    "    #generate my estimate for the training and validation\n",
    "    train_estimate = lasso.predict(X_train_scaled)\n",
    "    valid_estimate = lasso.predict(X_valid_scaled)\n",
    "    \n",
    "    \n",
    "    #finally we compute the MSE and store the results\n",
    "    mse_train = mean_squared_error(y_train_scaled, train_estimate)\n",
    "    mse_valid = mean_squared_error(y_valid_scaled, valid_estimate)\n",
    "    \n",
    "    results.append([l, mse_train, mse_valid])\n",
    "    \n",
    "    \n"
   ]
  },
  {
   "cell_type": "code",
   "execution_count": null,
   "id": "2b061db1",
   "metadata": {},
   "outputs": [],
   "source": [
    "#now convert the results into numpy so we can visualize\n",
    "results = np.array(results)\n",
    "\n"
   ]
  },
  {
   "cell_type": "code",
   "execution_count": null,
   "id": "1f9da2f1",
   "metadata": {},
   "outputs": [],
   "source": [
    "#plotting training x validation\n",
    "\n",
    "fig=plt.figure(figsize=(15,7.5))\n",
    "plt.title(\"Lasso Performance\")\n",
    "plt.plot(results[:,0], #accessing lambda values\n",
    "         results[:,1], #accessing train MSE\n",
    "        label = 'Training MSE',\n",
    "         color='black'\n",
    "        )\n",
    "\n",
    "plt.plot(results[:,0], #accessing lambda values\n",
    "         results[:,2], #accessing valid MSE\n",
    "        label = 'Validation MSE',\n",
    "         color='red'\n",
    "        )\n",
    "plt.xlabel(\"Lambda\")\n",
    "plt.ylabel(\"MSE\")\n",
    "plt.legend(loc='best')\n",
    "plt.show()"
   ]
  },
  {
   "cell_type": "code",
   "execution_count": null,
   "id": "ef096c3e",
   "metadata": {},
   "outputs": [],
   "source": []
  }
 ],
 "metadata": {
  "kernelspec": {
   "display_name": "Python 3",
   "language": "python",
   "name": "python3"
  },
  "language_info": {
   "codemirror_mode": {
    "name": "ipython",
    "version": 3
   },
   "file_extension": ".py",
   "mimetype": "text/x-python",
   "name": "python",
   "nbconvert_exporter": "python",
   "pygments_lexer": "ipython3",
   "version": "3.9.7"
  }
 },
 "nbformat": 4,
 "nbformat_minor": 5
}
